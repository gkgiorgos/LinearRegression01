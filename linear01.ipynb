{
 "cells": [
  {
   "cell_type": "code",
   "execution_count": 52,
   "metadata": {
    "collapsed": true
   },
   "outputs": [],
   "source": [
    "import numpy as np\n",
    "import matplotlib.pyplot as plt"
   ]
  },
  {
   "cell_type": "code",
   "execution_count": 53,
   "metadata": {
    "collapsed": true
   },
   "outputs": [],
   "source": [
    "%matplotlib inline"
   ]
  },
  {
   "cell_type": "code",
   "execution_count": 50,
   "metadata": {
    "collapsed": false
   },
   "outputs": [],
   "source": [
    "array = []\n",
    "with open(\"ex1data1.txt\", \"r\") as f:\n",
    "  for line in f:\n",
    "    array.append(line)\n",
    "    \n",
    "for i in range(len(array)):\n",
    "    array[i] = array[i].replace(\"\\n\", \"\")\n",
    "    \n",
    "data = np.zeros([len(array) , 2])\n",
    "\n",
    "for i in range(len(array)):\n",
    "    temp = array[i].split(',')\n",
    "    data[i] = temp"
   ]
  },
  {
   "cell_type": "code",
   "execution_count": 76,
   "metadata": {
    "collapsed": false
   },
   "outputs": [
    {
     "data": {
      "image/png": "[encoded data removed]",
      "text/plain": [
       "<matplotlib.figure.Figure at 0x78a46d8>"
      ]
     },
     "metadata": {},
     "output_type": "display_data"
    }
   ],
   "source": [
    "x = data[ : , 0 ]\n",
    "t = data[ : , 1 ]\n",
    "plt.plot( x , t , 'rx' )\n",
    "plt.xlabel('Population of City in 10.000s')\n",
    "plt.ylabel('Profit in $10.000s')\n",
    "plt.axis([0 , 25 , -5 , 25])\n",
    "plt.show()"
   ]
  },
  {
   "cell_type": "markdown",
   "metadata": {},
   "source": [
    "## Choose a hypothesis function!"
   ]
  },
  {
   "cell_type": "markdown",
   "metadata": {},
   "source": [
    "We choose a linear hypothesis function with * **x** = 'Population of City in 10.000s'* and a value * **y** = Profit in $10.000*. The idea here is to approximate our target values **t** with our value **y**. Therefore, we will train our linear model in order to predict the best weight **w** and the intercept value **b** (bias). $$y = wx + b$$\n",
    "\n",
    "However we need some kind of metric to value how good or not is our approximation. In this case we will use a **Loss function** which will depend only from our trainable parameters **w** and **b**. \n",
    "$$L(w , b) = \\frac{1}{2} \\sum_{i = 1}^{N}(wx^{(i)} + b - t^{(i)})^2$$\n",
    "\n",
    "Our task now is to find the best pair (w , b) such that L(w,b) is minimised. L is a nonnegative quadratic function and for this reason it has one critical point which also a minimum. In order to find the point (w , b) which minimizes L we set the partial derivatives equal to zero. $$\\frac{\\partial L}{\\partial w} = 0 , \\frac{\\partial L}{\\partial b} = 0$$\n",
    "\n",
    "After some basic calculations we obtain the following equations:\n",
    "\\begin{equation}\n",
    "b = \\frac{\\sum_{i = 1}^N t^{(i)} - \\sum_{i = 1}^N x^{(i)}}{N}\n",
    "\\end{equation}\n",
    "\n",
    "\\begin{equation}\n",
    "w = \\frac{\\sum_{i = 1}^N x^{(i)}t^{(i)} - b \\sum_{i = 1}^N x^{(i)}}{\\sum_{i = 1}^{n} (x^{(i)})^2}\n",
    "\\end{equation}\n",
    "\n",
    "We will now write a function called *simple_linear_regression* which will implement all that we mentioned above."
   ]
  },
  {
   "cell_type": "code",
   "execution_count": 77,
   "metadata": {
    "collapsed": false
   },
   "outputs": [],
   "source": [
    "def simple_linear_regression(input_feature, output):\n",
    "    '''simple_linear_regression accepts as an input two matrices input_feature and output\n",
    "    and is computing the values for the intercept and the slope for the linear model.'''\n",
    "    \n",
    "    # compute the mean of input_feature and output\n",
    "    Xmean = np.mean(np.array(input_feature))\n",
    "    Tmean = np.mean(np.array(output))\n",
    "\n",
    "    \n",
    "    # compute the product of the output and the input_feature and its mean\n",
    "    XT = input_feature*output\n",
    "    XTmean = np.mean(np.array(XT))\n",
    "    \n",
    "    # compute the squared value of the input_feature and its mean\n",
    "    sqX = input_feature*input_feature\n",
    "    sqXmean = np.mean(np.array(sqX))\n",
    "    \n",
    "    # use the formula for the slope\n",
    "    slope = (XTmean - Xmean*Tmean)/(sqXmean - Xmean**2)\n",
    "    \n",
    "    # use the formula for the intercept\n",
    "    intercept = Tmean - slope*Xmean\n",
    "    \n",
    "    return (intercept, slope)"
   ]
  },
  {
   "cell_type": "code",
   "execution_count": 78,
   "metadata": {
    "collapsed": false
   },
   "outputs": [],
   "source": [
    "(b , w) = simple_linear_regression(x , t)"
   ]
  },
  {
   "cell_type": "code",
   "execution_count": 80,
   "metadata": {
    "collapsed": false
   },
   "outputs": [
    {
     "data": {
      "image/png": "[encoded data removed]",
      "text/plain": [
       "<matplotlib.figure.Figure at 0x6a7b278>"
      ]
     },
     "metadata": {},
     "output_type": "display_data"
    }
   ],
   "source": [
    "plt.plot( x , t , 'rx' )\n",
    "plt.plot(x, x*w+b, 'b')\n",
    "plt.xlabel('Population of City in 10.000s')\n",
    "plt.ylabel('Profit in $10.000s')\n",
    "plt.axis([0 , 25 , -5 , 25])\n",
    "plt.show()"
   ]
  },
  {
   "cell_type": "code",
   "execution_count": null,
   "metadata": {
    "collapsed": true
   },
   "outputs": [],
   "source": []
  }
 ],
 "metadata": {
  "kernelspec": {
   "display_name": "Python 2",
   "language": "python",
   "name": "python2"
  },
  "language_info": {
   "codemirror_mode": {
    "name": "ipython",
    "version": 2
   },
   "file_extension": ".py",
   "mimetype": "text/x-python",
   "name": "python",
   "nbconvert_exporter": "python",
   "pygments_lexer": "ipython2",
   "version": "2.7.11"
  }
 },
 "nbformat": 4,
 "nbformat_minor": 0
}
